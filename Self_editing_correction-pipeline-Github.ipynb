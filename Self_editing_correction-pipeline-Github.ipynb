{
 "cells": [
  {
   "cell_type": "markdown",
   "id": "7c65f041",
   "metadata": {},
   "source": [
    "# Self-editing correction pipeline"
   ]
  },
  {
   "cell_type": "markdown",
   "id": "73b5ff85",
   "metadata": {},
   "source": [
    "The purpose of this notebook is to correct for self-editing activity of PAM-flexible base editors, as detailed in the following bioRxiv preprint: Activity-based selection for enhanced base editor mutational scanning, Kaplan et al 2024. <br> <br>\n",
    "Please refer to the README file for instructions to generate the necessary files. This code will output a graph for initial analysis of the level of self-editing in your screen, as well as a final read counts file that can be used for further screen analysis."
   ]
  },
  {
   "cell_type": "code",
   "execution_count": 42,
   "id": "c17ff5fc",
   "metadata": {},
   "outputs": [],
   "source": [
    "import pandas as pd\n",
    "import numpy as np\n",
    "import re\n",
    "import matplotlib.pyplot as plt\n",
    "from poola import core as pool\n",
    "from scipy import stats\n",
    "import matplotlib as mpl\n",
    "import gpplot as gpp\n",
    "import seaborn as sns\n",
    "gpp.set_aesthetics()"
   ]
  },
  {
   "cell_type": "code",
   "execution_count": 43,
   "id": "9e75ae6b",
   "metadata": {},
   "outputs": [],
   "source": [
    "def newcol_name(unexpected_count, condition_df):\n",
    "    #renames columns with barcodes based on condition map\n",
    "    #inputs:\n",
    "        #unexpected_count: PoolQ-generated dataframe containing the most frequent (1e6, typically) sgRNA sequences that are not found in the reference file\n",
    "        #condition_df: 2-column dataframe linking P7 sequencing barcode to associated sample\n",
    "    #outputs: edits in place\n",
    "    condition_df[1] = condition_df[1].replace(np.NaN, 'Nothing')\n",
    "    new_cols = []\n",
    "    for col in unexpected_count.columns:\n",
    "        if col in condition_df[0].to_list():\n",
    "            new_col = condition_df[condition_df[0] == col][1].to_list()\n",
    "        else: \n",
    "            new_col = [col]\n",
    "        new_cols.extend(new_col)   \n",
    "    unexpected_count.columns = new_cols\n",
    "    \n",
    "def regex_seq(reference_df, guide_seq_col = 'sgRNA Target Sequence', \n",
    "              chr_change = 'A', regex_pattern = '[AG]'):\n",
    "    #adds a column to the reference file with regex representing all possible combinations of A>G (or C>T if CBE) edits that may occur within a guide\n",
    "    #to evaluate CBE self-editing, implement the following changes above: chr_change='C', regex_pattern='[CT]'\n",
    "    #inputs:\n",
    "        #reference_df: 5-column dataframe consisting of sgRNA Target Sequence, Target Gene ID, Target Gene Symbol, A-G edits, and C-T edits\n",
    "    #outputs: edits in place    \n",
    "    regex_list = []\n",
    "    for seq in reference_df[guide_seq_col]:\n",
    "        pos_a = [pos for pos, char in enumerate(seq) if char == chr_change]\n",
    "        temp = list(seq)\n",
    "        for pos in pos_a:\n",
    "            temp[pos] = regex_pattern\n",
    "        string = \"\".join(temp)\n",
    "        regex_list.append(string)\n",
    "    reference_df['regex'] = regex_list\n",
    "\n",
    "def regex_match(reference_df, unexpected_count, \n",
    "                reference_regex_col = 'regex', reference_seq_col = 'sgRNA Target Sequence',\n",
    "                unexpected_count_seq_col = 'Sequence'):\n",
    "    #makes a dictionary mapping each guide to each of mismatched sequences seen in unexpected counts file\n",
    "    #inputs:\n",
    "        #reference_df: as stated previously, including new regex column from regex_seq function\n",
    "        #unexpected_count: as stated previously, including mapped column names from newcol_name function\n",
    "    #outputs: \n",
    "        #long_list: list of all possible sgRNA sequences given any A>G or C>T editing\n",
    "        #my_dict: dictionary with reference sgRNAs as keys and possible self-edited sgRNAs as values\n",
    "    long_list = []  \n",
    "    my_dict = {}\n",
    "    for seq in range(reference_df.shape[0]):\n",
    "        r = re.compile(reference_df[reference_regex_col][seq])\n",
    "        newlist = list(filter(r.match, unexpected_count[unexpected_count_seq_col].to_list()))\n",
    "        long_list.extend(newlist)\n",
    "        my_dict[reference_df[reference_seq_col][seq]] = newlist\n",
    "    return long_list, my_dict\n",
    "\n",
    "def df_align(my_dict):\n",
    "    #creates a dataframe with each row as a reference sgRNA and self-edited sgRNA, location of mismatch and the number of mismatches between the guide and the mismatched sequence \n",
    "    #input: \n",
    "        #my_dict: dictionary created in regex_match function\n",
    "    #outputs:\n",
    "        #df: a dataframe with each row as a reference sgRNA and mapped self-edited sgRNA\n",
    "        #pos_mismatch: list of self-editing location\n",
    "    df = pd.DataFrame(columns =['guide_seq','mismatch_seq', 'loc_mismatch', 'number_mis_seq'])\n",
    "    pos_mismatch = []\n",
    "    for key, values in my_dict.items():\n",
    "        if len(values)>0:\n",
    "            for val in values:\n",
    "                loc_mismatch = [i for i in range(len(key)) if key[i] != val[i]]\n",
    "                pos_mismatch.extend(loc_mismatch)\n",
    "                row_to_append = pd.DataFrame([{'guide_seq':key, 'mismatch_seq':val,\n",
    "                                               'loc_mismatch':loc_mismatch,'number_mis_seq':len(loc_mismatch)}])\n",
    "                df = pd.concat([df,row_to_append])\n",
    "        else:\n",
    "            continue\n",
    "    return df, pos_mismatch\n",
    "\n",
    "def percent_mismatch(cols_to_sum, counts, unexpected_count, align_to_df):\n",
    "    #this function takes the unexpected sequences counts and total counts per guide and finds the percent unexpected reads/guide\n",
    "    #inputs:\n",
    "        #cols_to_sum: list of columns to be used for self-editing analysis (can be all or subset)\n",
    "        #counts: PoolQ-generated dataframe containing read counts for each condition. This only includes sgRNA sequences that are found in the reference file\n",
    "        #unexpected_count: as previously described with newcol_name function, subsetted to cols_to_sum if used\n",
    "        #align_to_df: dataframe generated as \"df\" in df_align function\n",
    "    #outputs:\n",
    "        #sum_by_sg: dataframe containing 4 columns: Construct Barcode, mismatch_total, sg_count_total, percent (percent self-edited reads of total reads)\n",
    "    counts['sg_count_total'] = counts[cols_to_sum].sum(axis=1)\n",
    "    mismatch_to_norm = []\n",
    "    mismatch_to_norm = pd.merge(counts, align_to_df, right_on=\"guide_seq\", left_on='Construct Barcode',how=\"left\")\n",
    "    \n",
    "    mismatch_to_norm = pd.merge(mismatch_to_norm, unexpected_count, right_on=\"Sequence\", left_on='mismatch_seq',how=\"left\")\n",
    "    col_to_keep = ['Construct Barcode', 'mismatch_seq', 'sg_count_total', 'Total']\n",
    "    mismatch_simple = mismatch_to_norm[col_to_keep]\n",
    "    mismatch_simple = mismatch_simple.rename(columns={'Total': 'mismatch_total'})\n",
    "    \n",
    "    unique_sg = mismatch_simple.drop_duplicates(subset=['Construct Barcode'])\n",
    "    col_to_keep_2 = ['Construct Barcode', 'sg_count_total']\n",
    "    unique_sg = unique_sg[col_to_keep_2]\n",
    "    sum_by_sg = mismatch_simple.groupby('Construct Barcode')['mismatch_total'].sum().reset_index()\n",
    "    sum_by_sg = pd.merge(sum_by_sg, unique_sg, on='Construct Barcode')\n",
    "    sum_by_sg['sg_count_total'] = sum_by_sg['mismatch_total']+sum_by_sg['sg_count_total']\n",
    "    sum_by_sg['percent'] = sum_by_sg['mismatch_total']/sum_by_sg['sg_count_total']*100\n",
    "    return sum_by_sg\n",
    "\n",
    "def across_guide(align_to_df, unexpected_count, sum_by_sg):\n",
    "    #this function generates the self-editing frequencies at each nucleotide across the sgRNA\n",
    "    #inputs:\n",
    "        #align_to_df: as stated previously in percent_mismatch function\n",
    "        #unexpected_count: as stated previously in percent_mismatch function\n",
    "        #sum_by_sg: as returned by percent_mismatch function\n",
    "    #outputs:\n",
    "        #sgrna_edit_pos: contains a unique row for each individual self-editing mismatch and shows self-editing by nucleotide along sgRNA percentage\n",
    "    editing_by_pos = pd.merge(unexpected_count, align_to_df, left_on='Sequence',right_on=\"mismatch_seq\", how=\"right\")\n",
    "    col_to_keep = ['guide_seq', 'mismatch_seq', 'loc_mismatch','Total']\n",
    "    editing_by_pos = editing_by_pos[col_to_keep]\n",
    "    editing_by_pos = editing_by_pos.rename(columns={'Total': 'mm_total'})\n",
    "    sgrna_exploded = editing_by_pos.explode('loc_mismatch').reset_index(drop=True)\n",
    "    sgrna_edit = sgrna_exploded.groupby(['guide_seq','loc_mismatch']).sum(numeric_only = True).reset_index()\n",
    "    sgrna_edit_pos = pd.merge(sgrna_edit, sum_by_sg, left_on='guide_seq',right_on='Construct Barcode',how=\"right\")\n",
    "    sgrna_edit_pos['editing_per_nt'] = sgrna_edit_pos['mm_total']/sgrna_edit_pos['sg_count_total']*100\n",
    "    return sgrna_edit_pos\n",
    "\n",
    "def mapping_adding(unexpected_count, align_to_df, counts):\n",
    "    #this function adds the unexpected sequence read counts to their mapped sequence read counts, generating a counts file that can be used for future analysis\n",
    "    #inputs:\n",
    "        #align_to_df: as stated previously in percent_mismatch function\n",
    "        #unexpected_count: as stated previously in percent_mismatch function\n",
    "        #counts: as stated previously in percent_mismatch function\n",
    "    #outputs:\n",
    "        #counts_merged_final: corrected read counts file (dataframe similar to original counts file, but includes mapped self-edited sgRNAs). This file should contain the same number of rows as the original counts file.\n",
    "    unexpected_count_grouped = unexpected_count.groupby(unexpected_count.columns, axis=1).sum()\n",
    "    unexpected_count_matched = pd.merge(unexpected_count_grouped, align_to_df, left_on='Sequence', right_on='mismatch_seq',\n",
    "                                   how='right')\n",
    "    unexpected_count_final = unexpected_count_matched.groupby('guide_seq').sum().reset_index()\n",
    "    \n",
    "    counts_merged = pd.merge(counts, unexpected_count_final, left_on='Construct Barcode', right_on='guide_seq',\n",
    "                         suffixes=('_df2', '_df1'))\n",
    "    exclude_columns = {'Construct Barcode','Construct IDs','Potential IDs','Sequence','Total','guide_seq','mismatch_seq','loc_mismatch','number_mis_seq'}\n",
    "    columns_to_sum = set(counts.columns).intersection(set(unexpected_count_final.columns)) - exclude_columns\n",
    "\n",
    "    for col in columns_to_sum:\n",
    "        counts_merged[col] = counts_merged[f'{col}_df2'] + counts_merged[f'{col}_df1']\n",
    "        counts_merged.drop([f'{col}_df2', f'{col}_df1'], axis=1, inplace=True)\n",
    "    #retrieve guides that did not undergo any self editing (no match in mismatched counts)\n",
    "    filtered_counts = counts[~counts['Construct Barcode'].isin(counts_merged['Construct Barcode'])].reset_index()\n",
    "\n",
    "    counts_merged_final = pd.concat([counts_merged, filtered_counts], ignore_index=True).reindex(columns=counts_merged.columns)\n",
    "    return counts_merged_final"
   ]
  },
  {
   "cell_type": "markdown",
   "id": "22f5b0d5",
   "metadata": {},
   "source": [
    "### Example with sample data"
   ]
  },
  {
   "cell_type": "markdown",
   "id": "d473284d",
   "metadata": {},
   "source": [
    "Sample data description: <br>Cell line: A549 <br> Base editor: ABE8e (RDA867) <br> Libraries: CP2087 (repA), CP2088 (repB) --these use different splice sgRNAs but the same TP53 library and drug conditions and thereby function as replicates. These samples underwent activity-based selection.\n",
    "<br>  Samples taken on day 21"
   ]
  },
  {
   "cell_type": "code",
   "execution_count": 44,
   "id": "6979094c",
   "metadata": {},
   "outputs": [],
   "source": [
    "#load data\n",
    "condition = pd.read_csv('conditions_sample.csv', header = None)\n",
    "reference = pd.read_csv('reference_sample.csv')\n",
    "counts = pd.read_table('counts_sample.txt')\n",
    "\n",
    "#unzip unexpected counts file\n",
    "import zipfile\n",
    "zip_file_path = 'unexpected_counts_sample.txt.zip'\n",
    "extract_to = '.'\n",
    "with zipfile.ZipFile(zip_file_path, 'r') as zip_ref:\n",
    "    zip_ref.extractall(extract_to)\n",
    "    \n",
    "unexpected_count = pd.read_table('unexpected_counts_sample.txt.zip')"
   ]
  },
  {
   "cell_type": "code",
   "execution_count": 45,
   "id": "69878e43",
   "metadata": {},
   "outputs": [],
   "source": [
    "#run functions to map unexpected sequences to self-edited sgRNAs\n",
    "newcol_name(unexpected_count, condition)\n",
    "regex_seq(reference)\n",
    "seq_match, dic_seq_match = regex_match(reference, unexpected_count)\n",
    "align_to_df, AG_pos_mismatch= df_align(dic_seq_match)"
   ]
  },
  {
   "cell_type": "code",
   "execution_count": 46,
   "id": "60c35e86",
   "metadata": {},
   "outputs": [],
   "source": [
    "#limit scope of conditions if desired (here we limit to only TP53-targeting genes from the dropout condition)\n",
    "cols = ['Construct Barcode','Construct IDs','A549_RDA867CP2087DropoutA21', 'A549_RDA867CP2088DropoutA21']\n",
    "counts_DO = counts[cols]\n",
    "counts_DO = counts_DO[counts_DO['Construct IDs']=='ENSG00000141510'] #TP53\n",
    "\n",
    "unexpected_count_DO = unexpected_count[['Sequence', 'A549_RDA867CP2087DropoutA21', 'A549_RDA867CP2088DropoutA21']]"
   ]
  },
  {
   "cell_type": "code",
   "execution_count": 47,
   "id": "8ecfc247",
   "metadata": {},
   "outputs": [
    {
     "name": "stderr",
     "output_type": "stream",
     "text": [
      "/var/folders/d_/386377gs0gn39k81sn39v7y40000gq/T/ipykernel_69664/708266955.py:3: SettingWithCopyWarning: \n",
      "A value is trying to be set on a copy of a slice from a DataFrame.\n",
      "Try using .loc[row_indexer,col_indexer] = value instead\n",
      "\n",
      "See the caveats in the documentation: https://pandas.pydata.org/pandas-docs/stable/user_guide/indexing.html#returning-a-view-versus-a-copy\n",
      "  unexpected_count_DO['Total']=unexpected_count_DO[cols_to_sum].sum(axis=1)\n"
     ]
    }
   ],
   "source": [
    "#sum to obtain the total number of self-edited sgRNAs of these conditions\n",
    "cols_to_sum = ['A549_RDA867CP2087DropoutA21', 'A549_RDA867CP2088DropoutA21']\n",
    "unexpected_count_DO['Total']=unexpected_count_DO[cols_to_sum].sum(axis=1)"
   ]
  },
  {
   "cell_type": "code",
   "execution_count": 48,
   "id": "6ad7d62e",
   "metadata": {},
   "outputs": [],
   "source": [
    "#generate the percent self-edited sgRNAs of total sgRNA reads\n",
    "sum_by_sg_abe_activity = percent_mismatch(cols_to_sum, counts_DO, unexpected_count_DO, align_to_df)\n",
    "\n",
    "#generate the self-editing frequencies at each nucleotide across the sgRNA\n",
    "sgrna_edit_abe_pos_activity = across_guide(align_to_df, unexpected_count_DO, sum_by_sg_abe_activity)"
   ]
  },
  {
   "cell_type": "code",
   "execution_count": 49,
   "id": "62f77c52",
   "metadata": {},
   "outputs": [
    {
     "data": {
      "text/plain": [
       "Text(0.5, 1.0, 'ABE activity-based selection self-editing across sgTP53')"
      ]
     },
     "execution_count": 49,
     "metadata": {},
     "output_type": "execute_result"
    },
    {
     "data": {
      "image/png": "[encoded data removed]",
      "text/plain": [
       "<Figure size 550x400 with 1 Axes>"
      ]
     },
     "metadata": {},
     "output_type": "display_data"
    }
   ],
   "source": [
    "#to briefly observe the amount of self-editing, plot self-editing frequencies at each nucleotide across the sgRNA\n",
    "fig, ax = plt.subplots(figsize=(5.5, 4))\n",
    "a = sns.boxplot(data=sgrna_edit_abe_pos_activity, y=\"editing_per_nt\", x=\"loc_mismatch\", color='royalblue',width=.7,fliersize=3)\n",
    "a.set_xlabel(\"Position along sgTP53\")\n",
    "plt.xticks(ticks=range(20), labels=range(1, 21))\n",
    "a.set_ylim([0,100])\n",
    "plt.yticks([0, 20, 40, 60, 80, 100])\n",
    "a.set_ylabel(\"Percent self-editing by position\")\n",
    "a.set_title(\"ABE activity-based selection self-editing across sgTP53\")"
   ]
  },
  {
   "cell_type": "code",
   "execution_count": 50,
   "id": "1e1ea12c",
   "metadata": {},
   "outputs": [],
   "source": [
    "#create read counts file by sgRNA that accounts for self-editing\n",
    "counts_merged_final = mapping_adding(unexpected_count, align_to_df, counts)\n",
    "#counts_merged_final.to_csv('FILEPATH.csv')"
   ]
  }
 ],
 "metadata": {
  "kernelspec": {
   "display_name": "Python 3 (ipykernel)",
   "language": "python",
   "name": "python3"
  },
  "language_info": {
   "codemirror_mode": {
    "name": "ipython",
    "version": 3
   },
   "file_extension": ".py",
   "mimetype": "text/x-python",
   "name": "python",
   "nbconvert_exporter": "python",
   "pygments_lexer": "ipython3",
   "version": "3.11.4"
  }
 },
 "nbformat": 4,
 "nbformat_minor": 5
}
